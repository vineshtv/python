{
 "cells": [
  {
   "cell_type": "markdown",
   "metadata": {},
   "source": [
    "# Python Tricks\n",
    "\n",
    "This notebook contains some interesting python tricks. Not sure what this will evolve into. Let's see!!"
   ]
  },
  {
   "cell_type": "markdown",
   "metadata": {},
   "source": [
    "## '==' vs 'is\n",
    "\n",
    "> 'is' expressions evaluates to True if two variables point to the same object.\n",
    "\n",
    "> '==' evaluates to True if the objects referred to by the variables are equal\n",
    "\n",
    "Take the following example."
   ]
  },
  {
   "cell_type": "code",
   "execution_count": 1,
   "metadata": {},
   "outputs": [
    {
     "data": {
      "text/plain": [
       "[1, 2, 3]"
      ]
     },
     "execution_count": 1,
     "metadata": {},
     "output_type": "execute_result"
    }
   ],
   "source": [
    "a = [1, 2, 3]\n",
    "b = a\n",
    "b"
   ]
  },
  {
   "cell_type": "code",
   "execution_count": 2,
   "metadata": {},
   "outputs": [
    {
     "data": {
      "text/plain": [
       "True"
      ]
     },
     "execution_count": 2,
     "metadata": {},
     "output_type": "execute_result"
    }
   ],
   "source": [
    "a is b"
   ]
  },
  {
   "cell_type": "code",
   "execution_count": 3,
   "metadata": {},
   "outputs": [
    {
     "data": {
      "text/plain": [
       "True"
      ]
     },
     "execution_count": 3,
     "metadata": {},
     "output_type": "execute_result"
    }
   ],
   "source": [
    "a == b"
   ]
  },
  {
   "cell_type": "code",
   "execution_count": 4,
   "metadata": {},
   "outputs": [
    {
     "name": "stdout",
     "output_type": "stream",
     "text": [
      "id of a = 4371664840\n",
      "id of b = 4371664840\n"
     ]
    }
   ],
   "source": [
    "print(f'id of a = {id(a)}')\n",
    "print(f'id of b = {id(b)}')"
   ]
  },
  {
   "cell_type": "code",
   "execution_count": 5,
   "metadata": {},
   "outputs": [
    {
     "data": {
      "text/plain": [
       "[1, 2, 3]"
      ]
     },
     "execution_count": 5,
     "metadata": {},
     "output_type": "execute_result"
    }
   ],
   "source": [
    "c = list(a)\n",
    "c"
   ]
  },
  {
   "cell_type": "code",
   "execution_count": 10,
   "metadata": {},
   "outputs": [
    {
     "data": {
      "text/plain": [
       "True"
      ]
     },
     "execution_count": 10,
     "metadata": {},
     "output_type": "execute_result"
    }
   ],
   "source": [
    "a == c"
   ]
  },
  {
   "cell_type": "code",
   "execution_count": 11,
   "metadata": {},
   "outputs": [
    {
     "data": {
      "text/plain": [
       "False"
      ]
     },
     "execution_count": 11,
     "metadata": {},
     "output_type": "execute_result"
    }
   ],
   "source": [
    "a is c"
   ]
  },
  {
   "cell_type": "code",
   "execution_count": 12,
   "metadata": {},
   "outputs": [
    {
     "name": "stdout",
     "output_type": "stream",
     "text": [
      "id of a = 4371664840\n",
      "id of c = 4371891208\n"
     ]
    }
   ],
   "source": [
    "print(f'id of a = {id(a)}')\n",
    "print(f'id of c = {id(c)}')"
   ]
  },
  {
   "cell_type": "markdown",
   "metadata": {},
   "source": [
    "# Some pandas tricks"
   ]
  },
  {
   "cell_type": "code",
   "execution_count": 13,
   "metadata": {},
   "outputs": [
    {
     "name": "stdout",
     "output_type": "stream",
     "text": [
      "(0, '0th element', 0)\n",
      "(1, '1th element', 1)\n",
      "(2, '2th element', 4)\n",
      "(3, '3th element', 9)\n",
      "(4, '4th element', 16)\n",
      "(5, '5th element', 25)\n",
      "(6, '6th element', 36)\n",
      "(7, '7th element', 49)\n",
      "(8, '8th element', 64)\n",
      "(9, '9th element', 81)\n"
     ]
    }
   ],
   "source": [
    "list1 = [(i, f'{i}th element', i*i) for i in range(10)]\n",
    "for ele in list1:\n",
    "    print(ele)"
   ]
  },
  {
   "cell_type": "code",
   "execution_count": 14,
   "metadata": {},
   "outputs": [
    {
     "name": "stdout",
     "output_type": "stream",
     "text": [
      "   0            1   2\n",
      "0  0  0th element   0\n",
      "1  1  1th element   1\n",
      "2  2  2th element   4\n",
      "3  3  3th element   9\n",
      "4  4  4th element  16\n",
      "5  5  5th element  25\n",
      "6  6  6th element  36\n",
      "7  7  7th element  49\n",
      "8  8  8th element  64\n",
      "9  9  9th element  81\n"
     ]
    }
   ],
   "source": [
    "import pandas as pd\n",
    "df = pd.DataFrame(list1)\n",
    "print(df)"
   ]
  },
  {
   "cell_type": "markdown",
   "metadata": {},
   "source": [
    "## Reorder the columns "
   ]
  },
  {
   "cell_type": "code",
   "execution_count": 15,
   "metadata": {},
   "outputs": [
    {
     "name": "stdout",
     "output_type": "stream",
     "text": [
      "    2  0            1\n",
      "0   0  0  0th element\n",
      "1   1  1  1th element\n",
      "2   4  2  2th element\n",
      "3   9  3  3th element\n",
      "4  16  4  4th element\n",
      "5  25  5  5th element\n",
      "6  36  6  6th element\n",
      "7  49  7  7th element\n",
      "8  64  8  8th element\n",
      "9  81  9  9th element\n"
     ]
    }
   ],
   "source": [
    "cols = df.columns.tolist()\n",
    "\n",
    "#Now reorder the columns as required\n",
    "cols = cols[-1:] + cols[:-1]\n",
    "\n",
    "#apply the cols to the dataframe\n",
    "df = df[cols]\n",
    "print(df)"
   ]
  },
  {
   "cell_type": "markdown",
   "metadata": {},
   "source": [
    "## Randomise the dataframe in place and reorder index"
   ]
  },
  {
   "cell_type": "code",
   "execution_count": 17,
   "metadata": {},
   "outputs": [
    {
     "name": "stdout",
     "output_type": "stream",
     "text": [
      "    2  0            1\n",
      "0   9  3  3th element\n",
      "1  81  9  9th element\n",
      "2  49  7  7th element\n",
      "3  16  4  4th element\n",
      "4   0  0  0th element\n",
      "5  25  5  5th element\n",
      "6   1  1  1th element\n",
      "7   4  2  2th element\n",
      "8  36  6  6th element\n",
      "9  64  8  8th element\n"
     ]
    }
   ],
   "source": [
    "df = df.sample(frac=1).reset_index(drop=True)\n",
    "print(df)"
   ]
  },
  {
   "cell_type": "code",
   "execution_count": null,
   "metadata": {},
   "outputs": [],
   "source": []
  }
 ],
 "metadata": {
  "kernelspec": {
   "display_name": "Python 3",
   "language": "python",
   "name": "python3"
  },
  "language_info": {
   "codemirror_mode": {
    "name": "ipython",
    "version": 3
   },
   "file_extension": ".py",
   "mimetype": "text/x-python",
   "name": "python",
   "nbconvert_exporter": "python",
   "pygments_lexer": "ipython3",
   "version": "3.6.5"
  }
 },
 "nbformat": 4,
 "nbformat_minor": 2
}
