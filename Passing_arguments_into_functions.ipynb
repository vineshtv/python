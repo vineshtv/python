{
 "cells": [
  {
   "cell_type": "markdown",
   "metadata": {},
   "source": [
    "# Does python use pass-by-reference or pass-by-value?"
   ]
  },
  {
   "cell_type": "markdown",
   "metadata": {},
   "source": [
    "This is a loaded question because the answer is actually neither. \n",
    "In usage it may look like it is sometimes the former and sometimes the latter. But actually python uses something known as call-by-object or call-by-object-reference."
   ]
  },
  {
   "cell_type": "markdown",
   "metadata": {},
   "source": [
    "Let's try some examples:"
   ]
  },
  {
   "cell_type": "code",
   "execution_count": 1,
   "metadata": {},
   "outputs": [],
   "source": [
    "def function1(arg1):\n",
    "    print (\"arg1 passed in =\", arg1, \", id(arg1) =\", id(arg1))\n",
    "    arg1 = arg1 + 1\n",
    "    print (\"arg1 after modification =\", arg1, \", id(arg1) =\", id(arg1))"
   ]
  },
  {
   "cell_type": "markdown",
   "metadata": {},
   "source": [
    "A small detour first. Let's try and understand what the id() function does.\n",
    "The id() function takes an object as the input and returns the \"identity\" of the object. The identity is an integer which is unique and constant for this object during its lifetime. For e.g. "
   ]
  },
  {
   "cell_type": "code",
   "execution_count": 2,
   "metadata": {},
   "outputs": [
    {
     "name": "stdout",
     "output_type": "stream",
     "text": [
      "4493579904\n"
     ]
    }
   ],
   "source": [
    "a = 10\n",
    "print(id(a))"
   ]
  },
  {
   "cell_type": "code",
   "execution_count": 3,
   "metadata": {},
   "outputs": [
    {
     "name": "stdout",
     "output_type": "stream",
     "text": [
      "4493579936\n"
     ]
    }
   ],
   "source": [
    "a = a + 1\n",
    "print(id(a))"
   ]
  },
  {
   "cell_type": "markdown",
   "metadata": {},
   "source": [
    "So what happened here? How did the id change?\n",
    "\n",
    "Because 'a' here is pointing to an immutable object, changing the value of 'a' resulted in 'a' pointing to a new object. \n",
    "The same is not the case with mutable objects."
   ]
  },
  {
   "cell_type": "code",
   "execution_count": 4,
   "metadata": {},
   "outputs": [
    {
     "name": "stdout",
     "output_type": "stream",
     "text": [
      "b =  [1, 2, 3] id(b) =  4528263560\n"
     ]
    }
   ],
   "source": [
    "b = list([1, 2, 3])\n",
    "print (\"b = \", b, \"id(b) = \", id(b))"
   ]
  },
  {
   "cell_type": "code",
   "execution_count": 5,
   "metadata": {},
   "outputs": [
    {
     "name": "stdout",
     "output_type": "stream",
     "text": [
      "b =  [1, 2, 3, 4] id(b) =  4528263560\n"
     ]
    }
   ],
   "source": [
    "b.append(4)\n",
    "print (\"b = \", b, \"id(b) = \", id(b))"
   ]
  },
  {
   "cell_type": "markdown",
   "metadata": {},
   "source": [
    "Here b still points to the same object."
   ]
  },
  {
   "cell_type": "markdown",
   "metadata": {},
   "source": [
    "Now coming back to the point of function arguments. Let's see what happens when we call the function function1."
   ]
  },
  {
   "cell_type": "code",
   "execution_count": 6,
   "metadata": {},
   "outputs": [
    {
     "name": "stdout",
     "output_type": "stream",
     "text": [
      "a before function call = 11 , id(a) = 4493579936\n",
      "arg1 passed in = 11 , id(arg1) = 4493579936\n",
      "arg1 after modification = 12 , id(arg1) = 4493579968\n",
      "a after function call = 11 , id(a) = 4493579936\n"
     ]
    }
   ],
   "source": [
    "print (\"a before function call =\", a, \", id(a) =\", id(a))\n",
    "function1(a)\n",
    "print (\"a after function call =\", a, \", id(a) =\", id(a))"
   ]
  },
  {
   "cell_type": "markdown",
   "metadata": {},
   "source": [
    "So what has happened here is that initially it passes the object but as soon as it is modified, because it is an immutable object, a new object is created and it is used in the function and outside the scope of the function, the object remains unchanged.\n",
    "\n",
    "That means that when we pass immutable objects to a function, the passing acts like call-by-value. The object reference is passed to the function parameters. They can't be changed within the function, because they can't be changed at all, i.e. they are immutable.\n",
    "\n",
    "Now what happens if we pass in mutable objects?"
   ]
  },
  {
   "cell_type": "code",
   "execution_count": 7,
   "metadata": {},
   "outputs": [],
   "source": [
    "def function2(arg):\n",
    "    print(\"arg passed in =\", arg, \", id(arg) =\", id(arg))\n",
    "    arg.append(5)\n",
    "    print(\"arg after modification =\", arg, \", id(arg) =\", id(arg))"
   ]
  },
  {
   "cell_type": "code",
   "execution_count": 8,
   "metadata": {},
   "outputs": [
    {
     "name": "stdout",
     "output_type": "stream",
     "text": [
      "b before function call = [1, 2, 3, 4] , id(b) = 4528263560\n",
      "arg passed in = [1, 2, 3, 4] , id(arg) = 4528263560\n",
      "arg after modification = [1, 2, 3, 4, 5] , id(arg) = 4528263560\n",
      "b after function call = [1, 2, 3, 4, 5] , id(b) = 4528263560\n"
     ]
    }
   ],
   "source": [
    "print(\"b before function call =\", b, \", id(b) =\", id(b))\n",
    "function2(b)\n",
    "print(\"b after function call =\", b, \", id(b) =\", id(b))"
   ]
  },
  {
   "cell_type": "markdown",
   "metadata": {},
   "source": [
    "So there you have it, when passing mutable objects, it acts like pass-by-reference."
   ]
  },
  {
   "cell_type": "markdown",
   "metadata": {},
   "source": [
    "## Side effects"
   ]
  },
  {
   "cell_type": "markdown",
   "metadata": {},
   "source": [
    "A function is said to have a side effect if the function changes the callers environment in other ways than just producing a return value. \n",
    "For e.g. modifying a global variable, modifying one of the arguments etc. "
   ]
  },
  {
   "cell_type": "code",
   "execution_count": 9,
   "metadata": {
    "scrolled": true
   },
   "outputs": [
    {
     "name": "stdout",
     "output_type": "stream",
     "text": [
      "11\n"
     ]
    }
   ],
   "source": [
    "global_var = 10\n",
    "\n",
    "def function2():\n",
    "    global global_var\n",
    "    global_var = 11\n",
    "\n",
    "function2()\n",
    "print(global_var)"
   ]
  },
  {
   "cell_type": "markdown",
   "metadata": {},
   "source": [
    "Note: Note here that we have to use the label 'global' before using the global variable. If we don't do this, it will always create a local copy and the global variable will not get changed."
   ]
  },
  {
   "cell_type": "markdown",
   "metadata": {},
   "source": [
    "Most of the time the side effects are intended, but in some cases it can lead to trouble.\n",
    "See the following example."
   ]
  },
  {
   "cell_type": "code",
   "execution_count": 10,
   "metadata": {},
   "outputs": [
    {
     "name": "stdout",
     "output_type": "stream",
     "text": [
      "[0, 1, 2]\n"
     ]
    }
   ],
   "source": [
    "def function3(x, list=[]):\n",
    "    for i in range(x):\n",
    "        list.append(i)\n",
    "    print(list)\n",
    "    \n",
    "    \n",
    "function3(3)"
   ]
  },
  {
   "cell_type": "code",
   "execution_count": 11,
   "metadata": {},
   "outputs": [
    {
     "name": "stdout",
     "output_type": "stream",
     "text": [
      "['a', 'b', 'c', 0, 1, 2]\n"
     ]
    }
   ],
   "source": [
    "function3(3, ['a', 'b', 'c'])\n"
   ]
  },
  {
   "cell_type": "code",
   "execution_count": 12,
   "metadata": {},
   "outputs": [
    {
     "name": "stdout",
     "output_type": "stream",
     "text": [
      "[0, 1, 2, 0, 1, 2, 3]\n"
     ]
    }
   ],
   "source": [
    "function3(4)"
   ]
  },
  {
   "cell_type": "markdown",
   "metadata": {},
   "source": [
    "### Wait? What happened here?\n",
    "\n",
    "The first two calls print the expected results, but the third call is printing something weird.\n",
    "Whats happening here is that the first call creates a new list in the memory and appends 0, 1, 2 to this list.\n",
    "In the second call we have passed a mutable argument(a list) and the function uses this list to work on and hence gets the expected result. \n",
    "But in the third call, we are not passing in any argument, and hence the function uses the list created in the first call and uses it and appends the remaining. Hence the weird result.\n",
    "\n",
    "Here is the same function with some logs added to help understand."
   ]
  },
  {
   "cell_type": "code",
   "execution_count": 13,
   "metadata": {},
   "outputs": [
    {
     "name": "stdout",
     "output_type": "stream",
     "text": [
      "List at entry = [] , id(list) = 4528094536\n",
      "List at exit = [0, 1, 2] , id(list) = 4528094536\n"
     ]
    }
   ],
   "source": [
    "def function3_with_logs(x, list=[]):\n",
    "    print(\"List at entry =\", list, \", id(list) =\", id(list))\n",
    "    for i in range(x):\n",
    "        list.append(i)\n",
    "    print(\"List at exit =\", list, \", id(list) =\", id(list))\n",
    "    \n",
    "function3_with_logs(3)"
   ]
  },
  {
   "cell_type": "code",
   "execution_count": 14,
   "metadata": {},
   "outputs": [
    {
     "name": "stdout",
     "output_type": "stream",
     "text": [
      "List at entry = ['a', 'b', 'c'] , id(list) = 4527079880\n",
      "List at exit = ['a', 'b', 'c', 0, 1, 2] , id(list) = 4527079880\n"
     ]
    }
   ],
   "source": [
    "function3_with_logs(3, ['a', 'b', 'c'])"
   ]
  },
  {
   "cell_type": "code",
   "execution_count": 15,
   "metadata": {},
   "outputs": [
    {
     "name": "stdout",
     "output_type": "stream",
     "text": [
      "List at entry = [0, 1, 2] , id(list) = 4528094536\n",
      "List at exit = [0, 1, 2, 0, 1, 2, 3] , id(list) = 4528094536\n"
     ]
    }
   ],
   "source": [
    "function3_with_logs(4)"
   ]
  },
  {
   "cell_type": "markdown",
   "metadata": {},
   "source": [
    "So there you have it. Hope this makes it clear."
   ]
  }
 ],
 "metadata": {
  "kernelspec": {
   "display_name": "Python 3",
   "language": "python",
   "name": "python3"
  },
  "language_info": {
   "codemirror_mode": {
    "name": "ipython",
    "version": 3
   },
   "file_extension": ".py",
   "mimetype": "text/x-python",
   "name": "python",
   "nbconvert_exporter": "python",
   "pygments_lexer": "ipython3",
   "version": "3.6.5"
  }
 },
 "nbformat": 4,
 "nbformat_minor": 2
}
