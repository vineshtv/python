{
 "cells": [
  {
   "cell_type": "markdown",
   "metadata": {},
   "source": [
    "# Does python use pass-by-reference or pass-by-value?"
   ]
  },
  {
   "cell_type": "markdown",
   "metadata": {},
   "source": [
    "This is a loaded question because the answer is actually neither. \n",
    "In usage it may look like it is sometimes the former and sometimes the latter. But actually python uses something known as call-by-object or call-by-object-reference."
   ]
  },
  {
   "cell_type": "markdown",
   "metadata": {},
   "source": [
    "Let's try some examples:"
   ]
  },
  {
   "cell_type": "code",
   "execution_count": 1,
   "metadata": {},
   "outputs": [],
   "source": [
    "def function1(arg1):\n",
    "    print (f\"arg1 passed in: {arg1}, id(arg1): {id(arg1)}\")\n",
    "    arg1 = arg1 + 1\n",
    "    print (f\"arg1 after modification: {arg1}, id(arg1): {id(arg1)}\")"
   ]
  },
  {
   "cell_type": "markdown",
   "metadata": {},
   "source": [
    "A small detour first. Let's try and understand what the id() function does.\n",
    "The id() function takes an object as the input and returns the \"identity\" of the object. The identity is an integer which is unique and constant for this object during its lifetime. For e.g. "
   ]
  },
  {
   "cell_type": "code",
   "execution_count": 2,
   "metadata": {},
   "outputs": [
    {
     "name": "stdout",
     "output_type": "stream",
     "text": [
      "4410156672\n"
     ]
    }
   ],
   "source": [
    "a = 10\n",
    "print(id(a))"
   ]
  },
  {
   "cell_type": "code",
   "execution_count": 3,
   "metadata": {},
   "outputs": [
    {
     "name": "stdout",
     "output_type": "stream",
     "text": [
      "4410156704\n"
     ]
    }
   ],
   "source": [
    "a = a + 1\n",
    "print(id(a))"
   ]
  },
  {
   "cell_type": "markdown",
   "metadata": {},
   "source": [
    "So what happened here? How did the id change?\n",
    "\n",
    "Because 'a' here is pointing to an immutable object, changing the value of 'a' resulted in 'a' pointing to a new object. \n",
    "The same is not the case with mutable objects."
   ]
  },
  {
   "cell_type": "code",
   "execution_count": 4,
   "metadata": {},
   "outputs": [
    {
     "name": "stdout",
     "output_type": "stream",
     "text": [
      "b = [1, 2, 3], id(b) = 4444772872\n"
     ]
    }
   ],
   "source": [
    "b = list([1, 2, 3])\n",
    "print (f\"b = {b}, id(b) = {id(b)}\")"
   ]
  },
  {
   "cell_type": "code",
   "execution_count": 5,
   "metadata": {},
   "outputs": [
    {
     "name": "stdout",
     "output_type": "stream",
     "text": [
      "b = [1, 2, 3, 4], id(b) = 4444772872\n"
     ]
    }
   ],
   "source": [
    "b.append(4)\n",
    "print (f\"b = {b}, id(b) = {id(b)}\")"
   ]
  },
  {
   "cell_type": "markdown",
   "metadata": {},
   "source": [
    "Here b still points to the same object."
   ]
  },
  {
   "cell_type": "markdown",
   "metadata": {},
   "source": [
    "Now coming back to the point of function arguments. Let's see what happens when we call the function function1."
   ]
  },
  {
   "cell_type": "code",
   "execution_count": 6,
   "metadata": {},
   "outputs": [
    {
     "name": "stdout",
     "output_type": "stream",
     "text": [
      "a before function call = 11,  id(a) = 4410156704\n",
      "arg1 passed in: 11, id(arg1): 4410156704\n",
      "arg1 after modification: 12, id(arg1): 4410156736\n",
      "a after function call = 11, id(a) = 4410156704\n"
     ]
    }
   ],
   "source": [
    "print (f\"a before function call = {a},  id(a) = {id(a)}\")\n",
    "function1(a)\n",
    "print (f\"a after function call = {a}, id(a) = {id(a)}\")"
   ]
  },
  {
   "cell_type": "markdown",
   "metadata": {},
   "source": [
    "So what has happened here is that initially it passes the object but as soon as it is modified, because it is an immutable object, a new object is created and it is used in the function and outside the scope of the function, the object remains unchanged.\n",
    "\n",
    "That means that when we pass immutable objects to a function, the passing acts like call-by-value. The object reference is passed to the function parameters. They can't be changed within the function, because they can't be changed at all, i.e. they are immutable.\n",
    "\n",
    "Now what happens if we pass in mutable objects?"
   ]
  },
  {
   "cell_type": "code",
   "execution_count": 7,
   "metadata": {},
   "outputs": [],
   "source": [
    "def function2(arg):\n",
    "    print(f\"arg passed in = {arg}, id(arg) = {id(arg)}\")\n",
    "    arg.append(5)\n",
    "    print(f\"arg after modification = {arg}, id(arg) = {id(arg)}\")"
   ]
  },
  {
   "cell_type": "code",
   "execution_count": 8,
   "metadata": {},
   "outputs": [
    {
     "name": "stdout",
     "output_type": "stream",
     "text": [
      "b before function call = [1, 2, 3, 4], id(b) = 4444772872\n",
      "arg passed in = [1, 2, 3, 4], id(arg) = 4444772872\n",
      "arg after modification = [1, 2, 3, 4, 5], id(arg) = 4444772872\n",
      "b after function call = [1, 2, 3, 4, 5], id(b) = 4444772872\n"
     ]
    }
   ],
   "source": [
    "print(f\"b before function call = {b}, id(b) = {id(b)}\")\n",
    "function2(b)\n",
    "print(f\"b after function call = {b}, id(b) = {id(b)}\")"
   ]
  },
  {
   "cell_type": "markdown",
   "metadata": {},
   "source": [
    "So there you have it, when passing mutable objects, it acts like pass-by-reference."
   ]
  },
  {
   "cell_type": "markdown",
   "metadata": {},
   "source": [
    "## Side effects"
   ]
  },
  {
   "cell_type": "markdown",
   "metadata": {},
   "source": [
    "A function is said to have a side effect if the function changes the callers environment in other ways than just producing a return value. \n",
    "For e.g. modifying a global variable, modifying one of the arguments etc. "
   ]
  },
  {
   "cell_type": "code",
   "execution_count": 9,
   "metadata": {
    "scrolled": true
   },
   "outputs": [
    {
     "name": "stdout",
     "output_type": "stream",
     "text": [
      "11\n"
     ]
    }
   ],
   "source": [
    "global_var = 10\n",
    "\n",
    "def function2():\n",
    "    global global_var\n",
    "    global_var = 11\n",
    "\n",
    "function2()\n",
    "print(global_var)"
   ]
  },
  {
   "cell_type": "markdown",
   "metadata": {},
   "source": [
    "Note: Note here that we have to use the label 'global' before using the global variable. If we don't do this, it will always create a local copy and the global variable will not get changed."
   ]
  },
  {
   "cell_type": "markdown",
   "metadata": {},
   "source": [
    "Most of the time the side effects are intended, but in some cases it can lead to trouble.\n",
    "See the following example."
   ]
  },
  {
   "cell_type": "code",
   "execution_count": 10,
   "metadata": {},
   "outputs": [
    {
     "name": "stdout",
     "output_type": "stream",
     "text": [
      "[0, 1, 2]\n"
     ]
    }
   ],
   "source": [
    "def function3(x, list=[]):\n",
    "    for i in range(x):\n",
    "        list.append(i)\n",
    "    print(list)\n",
    "    \n",
    "    \n",
    "function3(3)"
   ]
  },
  {
   "cell_type": "code",
   "execution_count": 11,
   "metadata": {},
   "outputs": [
    {
     "name": "stdout",
     "output_type": "stream",
     "text": [
      "['a', 'b', 'c', 0, 1, 2]\n"
     ]
    }
   ],
   "source": [
    "function3(3, ['a', 'b', 'c'])\n"
   ]
  },
  {
   "cell_type": "code",
   "execution_count": 12,
   "metadata": {},
   "outputs": [
    {
     "name": "stdout",
     "output_type": "stream",
     "text": [
      "[0, 1, 2, 0, 1, 2, 3]\n"
     ]
    }
   ],
   "source": [
    "function3(4)"
   ]
  },
  {
   "cell_type": "markdown",
   "metadata": {},
   "source": [
    "### Wait? What happened here?\n",
    "\n",
    "The first two calls print the expected results, but the third call is printing something weird.\n",
    "Whats happening here is that the first call creates a new list in the memory and appends 0, 1, 2 to this list.\n",
    "In the second call we have passed a mutable argument(a list) and the function uses this list to work on and hence gets the expected result. \n",
    "But in the third call, we are not passing in any argument, and hence the function uses the list created in the first call and uses it and appends the remaining. Hence the weird result.\n",
    "\n",
    "Here is the same function with some logs added to help understand."
   ]
  },
  {
   "cell_type": "code",
   "execution_count": 13,
   "metadata": {},
   "outputs": [
    {
     "name": "stdout",
     "output_type": "stream",
     "text": [
      "List at entry = [], id(list) = 4443403720\n",
      "List at exit = [0, 1, 2], id(list) = 4443403720\n"
     ]
    }
   ],
   "source": [
    "def function3_with_logs(x, list=[]):\n",
    "    print(f\"List at entry = {list}, id(list) = {id(list)}\")\n",
    "    for i in range(x):\n",
    "        list.append(i)\n",
    "    print(f\"List at exit = {list}, id(list) = {id(list)}\")\n",
    "    \n",
    "function3_with_logs(3)"
   ]
  },
  {
   "cell_type": "code",
   "execution_count": 14,
   "metadata": {},
   "outputs": [
    {
     "name": "stdout",
     "output_type": "stream",
     "text": [
      "List at entry = ['a', 'b', 'c'], id(list) = 4443664328\n",
      "List at exit = ['a', 'b', 'c', 0, 1, 2], id(list) = 4443664328\n"
     ]
    }
   ],
   "source": [
    "function3_with_logs(3, ['a', 'b', 'c'])"
   ]
  },
  {
   "cell_type": "code",
   "execution_count": 15,
   "metadata": {},
   "outputs": [
    {
     "name": "stdout",
     "output_type": "stream",
     "text": [
      "List at entry = [0, 1, 2], id(list) = 4443403720\n",
      "List at exit = [0, 1, 2, 0, 1, 2, 3], id(list) = 4443403720\n"
     ]
    }
   ],
   "source": [
    "function3_with_logs(4)"
   ]
  },
  {
   "cell_type": "markdown",
   "metadata": {},
   "source": [
    "So there you have it. Hope this makes it clear."
   ]
  },
  {
   "cell_type": "markdown",
   "metadata": {},
   "source": [
    "## Passing variable number of arguments\n",
    "\n",
    "The special syntax \\*args and \\*\\*kwargs can be used to pass a variable number of arguments to a python function. The single asterisk (\\*args) is used to pass a non-keyworded, variable-length argument list, and the double asterisk form (\\*\\*kwargs) is used to pass a keyworded, variable-length argument list.\n",
    "\n",
    "Note: The identifiers args and kwargs are just a naming convention."
   ]
  },
  {
   "cell_type": "code",
   "execution_count": 16,
   "metadata": {},
   "outputs": [
    {
     "name": "stdout",
     "output_type": "stream",
     "text": [
      "argument passed : 1\n",
      "argument passed : 2\n",
      "argument passed : 3\n",
      "argument passed : 4\n"
     ]
    }
   ],
   "source": [
    "def function_with_variable_args1(*args):\n",
    "    for arg in args:\n",
    "        print (f\"argument passed : {arg}\")\n",
    "        \n",
    "function_with_variable_args1(1, 2, 3, 4)"
   ]
  },
  {
   "cell_type": "code",
   "execution_count": 17,
   "metadata": {},
   "outputs": [
    {
     "name": "stdout",
     "output_type": "stream",
     "text": [
      "argument passed - Key = a, value = A\n",
      "argument passed - Key = b, value = Boat\n",
      "argument passed - Key = c, value = 100\n",
      "argument passed - Key = d, value = 3.1415\n"
     ]
    }
   ],
   "source": [
    "def function_with_variable_args2(**kwargs):\n",
    "    for key in kwargs:\n",
    "        print(f\"argument passed - Key = {key}, value = {kwargs[key]}\")\n",
    "\n",
    "function_with_variable_args2(a='A', b=\"Boat\", c=100, d=3.1415)"
   ]
  },
  {
   "cell_type": "markdown",
   "metadata": {},
   "source": [
    "These arguments can be combined. When combining, the arguments must be ordered in the following manner.\n",
    "\n",
    "1. Normal positional arguments\n",
    "2. \\*args\n",
    "3. keyworded arguments\n",
    "4. \\*\\*kwargs"
   ]
  },
  {
   "cell_type": "code",
   "execution_count": 18,
   "metadata": {},
   "outputs": [
    {
     "name": "stdout",
     "output_type": "stream",
     "text": [
      "Normal positional argument = 10\n",
      "args : 20\n",
      "args : thirty\n",
      "keyworded argument = bababananana\n",
      "kwargs - key = c, value = 40\n",
      "kwargs - key = d, value = fifty\n",
      "kwargs - key = e, value = 60.0\n"
     ]
    }
   ],
   "source": [
    "def function_with_variable_args3(a, *args, b=\"banana\", **kwargs):\n",
    "    print (f\"Normal positional argument = {a}\")\n",
    "    for arg in args:\n",
    "        print(f\"args : {arg}\")\n",
    "    print(f\"keyworded argument = {b}\")\n",
    "    for key in kwargs:\n",
    "        print(f\"kwargs - key = {key}, value = {kwargs[key]}\")\n",
    "    \n",
    "function_with_variable_args3(10, 20, \"thirty\", b=\"bababananana\", c=40, d=\"fifty\", e=60.0)"
   ]
  },
  {
   "cell_type": "markdown",
   "metadata": {},
   "source": [
    "### Using \\*args and \\*\\*kwargs in function calls.\n",
    "\n",
    "We can use \\*args and \\*\\*kwargs in function calls as well in a similar manner."
   ]
  },
  {
   "cell_type": "code",
   "execution_count": 19,
   "metadata": {},
   "outputs": [
    {
     "name": "stdout",
     "output_type": "stream",
     "text": [
      "arguments = 1 2 3 4\n"
     ]
    }
   ],
   "source": [
    "def function4(arg1, arg2, arg3, arg4):\n",
    "    print(\"arguments =\", arg1, arg2, arg3, arg4)\n",
    "    \n",
    "list1 = [1, 2, 3, 4]\n",
    "function4(*list1)"
   ]
  },
  {
   "cell_type": "code",
   "execution_count": 20,
   "metadata": {},
   "outputs": [
    {
     "name": "stdout",
     "output_type": "stream",
     "text": [
      "arguments = 1 2 3 4\n"
     ]
    }
   ],
   "source": [
    "list2 = [3, 4]\n",
    "function4(1, 2, *list2)"
   ]
  },
  {
   "cell_type": "code",
   "execution_count": 21,
   "metadata": {},
   "outputs": [
    {
     "name": "stdout",
     "output_type": "stream",
     "text": [
      "arguments = 1 banana 3 4.0\n"
     ]
    }
   ],
   "source": [
    "arguments1 = {\"arg1\" : 1, \"arg2\" : \"banana\", \"arg3\" : 3, \"arg4\" : 4.0}\n",
    "\n",
    "function4(**arguments1)"
   ]
  },
  {
   "cell_type": "code",
   "execution_count": 22,
   "metadata": {},
   "outputs": [
    {
     "name": "stdout",
     "output_type": "stream",
     "text": [
      "arguments = 1 banana 3 4.0\n"
     ]
    }
   ],
   "source": [
    "arguments2 = {\"arg3\": 3, \"arg4\":4.0}\n",
    "function4(1, \"banana\", **arguments2)"
   ]
  }
 ],
 "metadata": {
  "kernelspec": {
   "display_name": "Python 3",
   "language": "python",
   "name": "python3"
  },
  "language_info": {
   "codemirror_mode": {
    "name": "ipython",
    "version": 3
   },
   "file_extension": ".py",
   "mimetype": "text/x-python",
   "name": "python",
   "nbconvert_exporter": "python",
   "pygments_lexer": "ipython3",
   "version": "3.6.5"
  }
 },
 "nbformat": 4,
 "nbformat_minor": 2
}
