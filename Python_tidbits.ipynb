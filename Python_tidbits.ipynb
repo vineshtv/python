{
 "cells": [
  {
   "cell_type": "markdown",
   "metadata": {},
   "source": [
    "# Python tidbits\n",
    "\n",
    "This notebook captures some tidbits for performing simple tasks easily.\n",
    "These may not be the best way to do it, but these have been helpful for me."
   ]
  },
  {
   "cell_type": "markdown",
   "metadata": {},
   "source": [
    "## Find all substrings of a string"
   ]
  },
  {
   "cell_type": "code",
   "execution_count": 1,
   "metadata": {},
   "outputs": [
    {
     "name": "stdout",
     "output_type": "stream",
     "text": [
      "['A', 'AC', 'ACH', 'ACHU', 'ACHUP', 'ACHUPI', 'ACHUPIC', 'ACHUPICH', 'ACHUPICHU', 'C', 'C', 'CH', 'CH', 'CHU', 'CHU', 'CHUP', 'CHUPI', 'CHUPIC', 'CHUPICH', 'CHUPICHU', 'H', 'H', 'HU', 'HU', 'HUP', 'HUPI', 'HUPIC', 'HUPICH', 'HUPICHU', 'I', 'IC', 'ICH', 'ICHU', 'M', 'MA', 'MAC', 'MACH', 'MACHU', 'MACHUP', 'MACHUPI', 'MACHUPIC', 'MACHUPICH', 'MACHUPICHU', 'P', 'PI', 'PIC', 'PICH', 'PICHU', 'U', 'U', 'UP', 'UPI', 'UPIC', 'UPICH', 'UPICHU']\n"
     ]
    }
   ],
   "source": [
    "string = \"MACHUPICHU\"\n",
    "\n",
    "substring = list()\n",
    "\n",
    "for i in range(len(string)):\n",
    "    for j in range(i+1, len(string)+1):\n",
    "        substring.append(string[i:j])\n",
    "\n",
    "substring.sort()\n",
    "print(substring)"
   ]
  },
  {
   "cell_type": "markdown",
   "metadata": {},
   "source": [
    "This is just brute force. You iterate through the complete string from start to end and at each index, get all substrings of length 0 to (index - length of string)"
   ]
  },
  {
   "cell_type": "markdown",
   "metadata": {},
   "source": [
    "## Remove all duplicates from a string"
   ]
  },
  {
   "cell_type": "code",
   "execution_count": 2,
   "metadata": {},
   "outputs": [
    {
     "name": "stdout",
     "output_type": "stream",
     "text": [
      "MACHUPI\n"
     ]
    }
   ],
   "source": [
    "print(\"\".join(sorted(set(string), key=string.index)))"
   ]
  },
  {
   "cell_type": "markdown",
   "metadata": {},
   "source": [
    "Let's break this down.\n",
    "\n",
    "First we use set to 'set' function to create an unordered collection of unique elements in the input."
   ]
  },
  {
   "cell_type": "code",
   "execution_count": 3,
   "metadata": {},
   "outputs": [
    {
     "name": "stdout",
     "output_type": "stream",
     "text": [
      "MACHUPICHU\n",
      "{'C', 'M', 'I', 'U', 'A', 'P', 'H'}\n"
     ]
    }
   ],
   "source": [
    "print(string)\n",
    "\n",
    "print(set(string))"
   ]
  },
  {
   "cell_type": "markdown",
   "metadata": {},
   "source": [
    "Now if you did not care about the ordering, you could just join this and return the new string."
   ]
  },
  {
   "cell_type": "code",
   "execution_count": 4,
   "metadata": {},
   "outputs": [
    {
     "name": "stdout",
     "output_type": "stream",
     "text": [
      "CMIUAPH\n"
     ]
    }
   ],
   "source": [
    "print(\"\".join(set(string)))"
   ]
  },
  {
   "cell_type": "markdown",
   "metadata": {},
   "source": [
    "If you care about the ordering, then we have to sort it in the order it was present in the original string. For this purpose we use the 'sorted' function and pass in the optional 'key' argument set as the index of the original string."
   ]
  },
  {
   "cell_type": "code",
   "execution_count": 5,
   "metadata": {},
   "outputs": [
    {
     "data": {
      "text/plain": [
       "['M', 'A', 'C', 'H', 'U', 'P', 'I']"
      ]
     },
     "execution_count": 5,
     "metadata": {},
     "output_type": "execute_result"
    }
   ],
   "source": [
    "sorted(set(string), key=string.index)"
   ]
  },
  {
   "cell_type": "markdown",
   "metadata": {},
   "source": [
    "Now join the list to get the final string."
   ]
  },
  {
   "cell_type": "code",
   "execution_count": 6,
   "metadata": {},
   "outputs": [
    {
     "name": "stdout",
     "output_type": "stream",
     "text": [
      "MACHUPI\n"
     ]
    }
   ],
   "source": [
    "print(\"\".join(sorted(set(string), key=string.index)))"
   ]
  },
  {
   "cell_type": "markdown",
   "metadata": {},
   "source": [
    "And there you have it!!"
   ]
  },
  {
   "cell_type": "markdown",
   "metadata": {},
   "source": [
    "## Converting string to a list\n",
    "\n",
    "This is a simple one. Use list comprehension"
   ]
  },
  {
   "cell_type": "code",
   "execution_count": 7,
   "metadata": {},
   "outputs": [
    {
     "name": "stdout",
     "output_type": "stream",
     "text": [
      "MACHUPICHU\n",
      "['M', 'A', 'C', 'H', 'U', 'P', 'I', 'C', 'H', 'U']\n"
     ]
    }
   ],
   "source": [
    "print(string)\n",
    "strlist = [c for c in string]\n",
    "\n",
    "print (strlist)"
   ]
  },
  {
   "cell_type": "markdown",
   "metadata": {},
   "source": [
    "### What is list comprehension? \n",
    "Refer https://www.python-course.eu/python3_list_comprehension.php for full details.\n",
    "\n",
    "But in short it is an easy way to create lists in python.\n",
    "The syntax in simple terms is as follows - \n",
    "\n",
    "**newlist = \\[x for x in iterable\\]**\n",
    "\n",
    "So in the above example it iterates through the string and takes each element and adds it to a list.\n",
    "But in a little more detail the syntax is as follows - \n",
    "\n",
    "**newlist = \\[{output expression} {input sequence} {optional predicate}\\]**\n",
    "\n",
    "Say for example you wanted to create a list from the original string, but the output list should contain only smaller case letters and should not contain any vowels, then the command would in the following manner.\n",
    "\n",
    "**newlist = \\[{expression to convert to smaller case letters} {iterate through the string} {check if they are not vowels}\\]**\n",
    "\n",
    "The actual python code would be - "
   ]
  },
  {
   "cell_type": "code",
   "execution_count": 8,
   "metadata": {},
   "outputs": [
    {
     "name": "stdout",
     "output_type": "stream",
     "text": [
      "['m', 'c', 'h', 'p', 'c', 'h']\n"
     ]
    }
   ],
   "source": [
    "vowels = \"AEIOU\"\n",
    "\n",
    "newlist = [c.lower() for c in string if c not in vowels]\n",
    "print(newlist)"
   ]
  },
  {
   "cell_type": "code",
   "execution_count": null,
   "metadata": {},
   "outputs": [],
   "source": []
  }
 ],
 "metadata": {
  "kernelspec": {
   "display_name": "Python 3",
   "language": "python",
   "name": "python3"
  },
  "language_info": {
   "codemirror_mode": {
    "name": "ipython",
    "version": 3
   },
   "file_extension": ".py",
   "mimetype": "text/x-python",
   "name": "python",
   "nbconvert_exporter": "python",
   "pygments_lexer": "ipython3",
   "version": "3.6.5"
  }
 },
 "nbformat": 4,
 "nbformat_minor": 2
}
