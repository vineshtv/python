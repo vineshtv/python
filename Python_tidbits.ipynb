{
 "cells": [
  {
   "cell_type": "markdown",
   "metadata": {},
   "source": [
    "# Python tidbits\n",
    "\n",
    "This notebook captures some tidbits for performing simple tasks easily.\n",
    "These may not be the best way to do it, but these have been helpful for me."
   ]
  },
  {
   "cell_type": "markdown",
   "metadata": {},
   "source": [
    "## Find all substrings of a string"
   ]
  },
  {
   "cell_type": "code",
   "execution_count": 1,
   "metadata": {},
   "outputs": [
    {
     "name": "stdout",
     "output_type": "stream",
     "text": [
      "['A', 'AC', 'ACH', 'ACHU', 'ACHUP', 'ACHUPI', 'ACHUPIC', 'ACHUPICH', 'ACHUPICHU', 'C', 'C', 'CH', 'CH', 'CHU', 'CHU', 'CHUP', 'CHUPI', 'CHUPIC', 'CHUPICH', 'CHUPICHU', 'H', 'H', 'HU', 'HU', 'HUP', 'HUPI', 'HUPIC', 'HUPICH', 'HUPICHU', 'I', 'IC', 'ICH', 'ICHU', 'M', 'MA', 'MAC', 'MACH', 'MACHU', 'MACHUP', 'MACHUPI', 'MACHUPIC', 'MACHUPICH', 'MACHUPICHU', 'P', 'PI', 'PIC', 'PICH', 'PICHU', 'U', 'U', 'UP', 'UPI', 'UPIC', 'UPICH', 'UPICHU']\n"
     ]
    }
   ],
   "source": [
    "string = \"MACHUPICHU\"\n",
    "\n",
    "substring = list()\n",
    "\n",
    "for i in range(len(string)):\n",
    "    for j in range(i+1, len(string)+1):\n",
    "        substring.append(string[i:j])\n",
    "\n",
    "substring.sort()\n",
    "print(substring)"
   ]
  },
  {
   "cell_type": "markdown",
   "metadata": {},
   "source": [
    "This is just brute force. You iterate through the complete string from start to end and at each index, get all substrings of length 0 to (index - length of string)"
   ]
  },
  {
   "cell_type": "markdown",
   "metadata": {},
   "source": [
    "## Remove all duplicates from a string"
   ]
  },
  {
   "cell_type": "code",
   "execution_count": 2,
   "metadata": {},
   "outputs": [
    {
     "name": "stdout",
     "output_type": "stream",
     "text": [
      "MACHUPI\n"
     ]
    }
   ],
   "source": [
    "print(\"\".join(sorted(set(string), key=string.index)))"
   ]
  },
  {
   "cell_type": "markdown",
   "metadata": {},
   "source": [
    "Let's break this down.\n",
    "\n",
    "First we use set to 'set' function to create an unordered collection of unique elements in the input."
   ]
  },
  {
   "cell_type": "code",
   "execution_count": 3,
   "metadata": {},
   "outputs": [
    {
     "name": "stdout",
     "output_type": "stream",
     "text": [
      "MACHUPICHU\n",
      "{'P', 'H', 'I', 'A', 'U', 'M', 'C'}\n"
     ]
    }
   ],
   "source": [
    "print(string)\n",
    "\n",
    "print(set(string))"
   ]
  },
  {
   "cell_type": "markdown",
   "metadata": {},
   "source": [
    "Now if you did not care about the ordering, you could just join this and return the new string."
   ]
  },
  {
   "cell_type": "code",
   "execution_count": 4,
   "metadata": {},
   "outputs": [
    {
     "name": "stdout",
     "output_type": "stream",
     "text": [
      "PHIAUMC\n"
     ]
    }
   ],
   "source": [
    "print(\"\".join(set(string)))"
   ]
  },
  {
   "cell_type": "markdown",
   "metadata": {},
   "source": [
    "If you care about the ordering, then we have to sort it in the order it was present in the original string. For this purpose we use the 'sorted' function and pass in the optional 'key' argument set as the index of the original string."
   ]
  },
  {
   "cell_type": "code",
   "execution_count": 5,
   "metadata": {},
   "outputs": [
    {
     "data": {
      "text/plain": [
       "['M', 'A', 'C', 'H', 'U', 'P', 'I']"
      ]
     },
     "execution_count": 5,
     "metadata": {},
     "output_type": "execute_result"
    }
   ],
   "source": [
    "sorted(set(string), key=string.index)"
   ]
  },
  {
   "cell_type": "markdown",
   "metadata": {},
   "source": [
    "Now join the list to get the final string."
   ]
  },
  {
   "cell_type": "code",
   "execution_count": 6,
   "metadata": {},
   "outputs": [
    {
     "name": "stdout",
     "output_type": "stream",
     "text": [
      "MACHUPI\n"
     ]
    }
   ],
   "source": [
    "print(\"\".join(sorted(set(string), key=string.index)))"
   ]
  },
  {
   "cell_type": "markdown",
   "metadata": {},
   "source": [
    "And there you have it!!"
   ]
  },
  {
   "cell_type": "markdown",
   "metadata": {},
   "source": [
    "## Converting string to a list\n",
    "\n",
    "This is a simple one. Use list comprehension"
   ]
  },
  {
   "cell_type": "code",
   "execution_count": 7,
   "metadata": {},
   "outputs": [
    {
     "name": "stdout",
     "output_type": "stream",
     "text": [
      "MACHUPICHU\n",
      "['M', 'A', 'C', 'H', 'U', 'P', 'I', 'C', 'H', 'U']\n"
     ]
    }
   ],
   "source": [
    "print(string)\n",
    "strlist = [c for c in string]\n",
    "\n",
    "print (strlist)"
   ]
  },
  {
   "cell_type": "markdown",
   "metadata": {},
   "source": [
    "### What is list comprehension? \n",
    "Refer https://www.python-course.eu/python3_list_comprehension.php for full details.\n",
    "\n",
    "But in short it is an easy way to create lists in python.\n",
    "The syntax in simple terms is as follows - \n",
    "\n",
    "**newlist = \\[x for x in iterable\\]**\n",
    "\n",
    "So in the above example it iterates through the string and takes each element and adds it to a list.\n",
    "But in a little more detail the syntax is as follows - \n",
    "\n",
    "**newlist = \\[{output expression} {input sequence} {optional predicate}\\]**\n",
    "\n",
    "Say for example you wanted to create a list from the original string, but the output list should contain only smaller case letters and should not contain any vowels, then the command would in the following manner.\n",
    "\n",
    "**newlist = \\[{expression to convert to smaller case letters} {iterate through the string} {check if they are not vowels}\\]**\n",
    "\n",
    "The actual python code would be - "
   ]
  },
  {
   "cell_type": "code",
   "execution_count": 8,
   "metadata": {},
   "outputs": [
    {
     "name": "stdout",
     "output_type": "stream",
     "text": [
      "['m', 'c', 'h', 'p', 'c', 'h']\n"
     ]
    }
   ],
   "source": [
    "vowels = \"AEIOU\"\n",
    "\n",
    "newlist = [c.lower() for c in string if c not in vowels]\n",
    "print(newlist)"
   ]
  },
  {
   "cell_type": "markdown",
   "metadata": {},
   "source": [
    "## Permutations and Combinations\n",
    "There is a python module which can be used for creating permutations and combinations. It is called itertools.\n",
    "This is a magic module which just blows everything out of the water.\n",
    "\n"
   ]
  },
  {
   "cell_type": "markdown",
   "metadata": {},
   "source": [
    "### Permutations\n",
    "So let's say we want to calculate all the permutations of the number 1234"
   ]
  },
  {
   "cell_type": "code",
   "execution_count": 9,
   "metadata": {},
   "outputs": [
    {
     "name": "stdout",
     "output_type": "stream",
     "text": [
      "[('1',), ('2',), ('3',), ('4',), ('1', '2'), ('1', '3'), ('1', '4'), ('2', '1'), ('2', '3'), ('2', '4'), ('3', '1'), ('3', '2'), ('3', '4'), ('4', '1'), ('4', '2'), ('4', '3'), ('1', '2', '3'), ('1', '2', '4'), ('1', '3', '2'), ('1', '3', '4'), ('1', '4', '2'), ('1', '4', '3'), ('2', '1', '3'), ('2', '1', '4'), ('2', '3', '1'), ('2', '3', '4'), ('2', '4', '1'), ('2', '4', '3'), ('3', '1', '2'), ('3', '1', '4'), ('3', '2', '1'), ('3', '2', '4'), ('3', '4', '1'), ('3', '4', '2'), ('4', '1', '2'), ('4', '1', '3'), ('4', '2', '1'), ('4', '2', '3'), ('4', '3', '1'), ('4', '3', '2'), ('1', '2', '3', '4'), ('1', '2', '4', '3'), ('1', '3', '2', '4'), ('1', '3', '4', '2'), ('1', '4', '2', '3'), ('1', '4', '3', '2'), ('2', '1', '3', '4'), ('2', '1', '4', '3'), ('2', '3', '1', '4'), ('2', '3', '4', '1'), ('2', '4', '1', '3'), ('2', '4', '3', '1'), ('3', '1', '2', '4'), ('3', '1', '4', '2'), ('3', '2', '1', '4'), ('3', '2', '4', '1'), ('3', '4', '1', '2'), ('3', '4', '2', '1'), ('4', '1', '2', '3'), ('4', '1', '3', '2'), ('4', '2', '1', '3'), ('4', '2', '3', '1'), ('4', '3', '1', '2'), ('4', '3', '2', '1')]\n"
     ]
    }
   ],
   "source": [
    "\n",
    "n = 1234\n",
    "numstr = str(n)\n",
    "\n",
    "perms = list()\n",
    "\n",
    "import itertools\n",
    "for i in range(1, len(numstr) + 1):\n",
    "    perms.extend(list(itertools.permutations(numstr, i)))\n",
    "    \n",
    "print (perms)"
   ]
  },
  {
   "cell_type": "code",
   "execution_count": 10,
   "metadata": {},
   "outputs": [
    {
     "name": "stdout",
     "output_type": "stream",
     "text": [
      "[1, 2, 3, 4, 12, 13, 14, 21, 23, 24, 31, 32, 34, 41, 42, 43, 123, 124, 132, 134, 142, 143, 213, 214, 231, 234, 241, 243, 312, 314, 321, 324, 341, 342, 412, 413, 421, 423, 431, 432, 1234, 1243, 1324, 1342, 1423, 1432, 2134, 2143, 2314, 2341, 2413, 2431, 3124, 3142, 3214, 3241, 3412, 3421, 4123, 4132, 4213, 4231, 4312, 4321]\n"
     ]
    }
   ],
   "source": [
    "permutations = [int(\"\".join(x)) for x in perms]\n",
    "\n",
    "print(permutations)"
   ]
  },
  {
   "cell_type": "markdown",
   "metadata": {},
   "source": [
    "itertools.permutations() takes an iterable and a length variable(say l) and returns all the l length permutations from the input iterable."
   ]
  },
  {
   "cell_type": "markdown",
   "metadata": {},
   "source": [
    "### Combinations\n",
    "Now if we want to take all the combinations from the same input.\n",
    "There is a similar combinations() function in itertools."
   ]
  },
  {
   "cell_type": "code",
   "execution_count": 11,
   "metadata": {},
   "outputs": [
    {
     "name": "stdout",
     "output_type": "stream",
     "text": [
      "[('1',), ('2',), ('3',), ('4',), ('1', '2'), ('1', '3'), ('1', '4'), ('2', '3'), ('2', '4'), ('3', '4'), ('1', '2', '3'), ('1', '2', '4'), ('1', '3', '4'), ('2', '3', '4'), ('1', '2', '3', '4')]\n"
     ]
    }
   ],
   "source": [
    "combs = list()\n",
    "for i in range(1, len(numstr) + 1):\n",
    "    combs.extend(itertools.combinations(numstr, i))\n",
    "    \n",
    "print(combs)"
   ]
  },
  {
   "cell_type": "code",
   "execution_count": 12,
   "metadata": {},
   "outputs": [
    {
     "name": "stdout",
     "output_type": "stream",
     "text": [
      "[1, 2, 3, 4, 12, 13, 14, 23, 24, 34, 123, 124, 134, 234, 1234]\n"
     ]
    }
   ],
   "source": [
    "combinations = [int(\"\".join(x)) for x in combs]\n",
    "print(combinations)"
   ]
  },
  {
   "cell_type": "markdown",
   "metadata": {},
   "source": [
    "itertools.combinations() takes an iterable and a length variable(say l) and returns all the l length combinations from the input iterable."
   ]
  },
  {
   "cell_type": "markdown",
   "metadata": {},
   "source": [
    "#### For example\n",
    "Let's say we want to find all the 3 letter words which can be formed from the alphabets ABCDE"
   ]
  },
  {
   "cell_type": "code",
   "execution_count": 13,
   "metadata": {},
   "outputs": [
    {
     "name": "stdout",
     "output_type": "stream",
     "text": [
      "['ABC', 'ABD', 'ABE', 'ACB', 'ACD', 'ACE', 'ADB', 'ADC', 'ADE', 'AEB', 'AEC', 'AED', 'BAC', 'BAD', 'BAE', 'BCA', 'BCD', 'BCE', 'BDA', 'BDC', 'BDE', 'BEA', 'BEC', 'BED', 'CAB', 'CAD', 'CAE', 'CBA', 'CBD', 'CBE', 'CDA', 'CDB', 'CDE', 'CEA', 'CEB', 'CED', 'DAB', 'DAC', 'DAE', 'DBA', 'DBC', 'DBE', 'DCA', 'DCB', 'DCE', 'DEA', 'DEB', 'DEC', 'EAB', 'EAC', 'EAD', 'EBA', 'EBC', 'EBD', 'ECA', 'ECB', 'ECD', 'EDA', 'EDB', 'EDC']\n"
     ]
    }
   ],
   "source": [
    "alphabets = \"ABCDE\"\n",
    "length = 3\n",
    "\n",
    "words = [\"\".join(x) for x in itertools.permutations(alphabets, length)]\n",
    "\n",
    "print(words)"
   ]
  },
  {
   "cell_type": "markdown",
   "metadata": {},
   "source": [
    "Easy right???"
   ]
  },
  {
   "cell_type": "markdown",
   "metadata": {},
   "source": [
    "## OrderedDict\n",
    "\n",
    "OrderedDict is a dictionary subclass which preserves the order in which its contents are added."
   ]
  },
  {
   "cell_type": "code",
   "execution_count": 14,
   "metadata": {},
   "outputs": [
    {
     "name": "stdout",
     "output_type": "stream",
     "text": [
      "OrderedDict([('f', 2), ('l', 3), ('o', 2), ('c', 4), ('i', 9), ('n', 3), ('a', 2), ('u', 1), ('h', 1), ('p', 1), ('t', 1)])\n"
     ]
    }
   ],
   "source": [
    "string = \"floccinaucinihilipilification\"\n",
    "\n",
    "from collections import OrderedDict\n",
    "d = OrderedDict()\n",
    "\n",
    "for c in string:\n",
    "    d[c] = d.get(c, 0) + 1 #second argument to get is the default value to be returned if the key is not present.\n",
    "    \n",
    "print(d)"
   ]
  },
  {
   "cell_type": "code",
   "execution_count": 15,
   "metadata": {},
   "outputs": [
    {
     "name": "stdout",
     "output_type": "stream",
     "text": [
      "('f', 2) ('l', 3) ('o', 2) ('c', 4) ('i', 9) ('n', 3) ('a', 2) ('u', 1) ('h', 1) ('p', 1) ('t', 1)\n"
     ]
    }
   ],
   "source": [
    "print(*d.items())"
   ]
  },
  {
   "cell_type": "markdown",
   "metadata": {},
   "source": [
    "This is useful in the case where the situation requies that the original order is always to be preserved."
   ]
  },
  {
   "cell_type": "markdown",
   "metadata": {},
   "source": [
    "## Counter\n",
    "Counter is a container which stores elements as dictionary keys and their counts as dictionary values. "
   ]
  },
  {
   "cell_type": "code",
   "execution_count": 16,
   "metadata": {},
   "outputs": [
    {
     "name": "stdout",
     "output_type": "stream",
     "text": [
      "{'f': 2, 'l': 3, 'o': 2, 'c': 4, 'i': 9, 'n': 3, 'a': 2, 'u': 1, 'h': 1, 'p': 1, 't': 1}\n"
     ]
    }
   ],
   "source": [
    "from collections import Counter\n",
    "stringList = [c for c in string]\n",
    "\n",
    "d1 = dict(Counter(stringList))\n",
    "print(d1)"
   ]
  },
  {
   "cell_type": "markdown",
   "metadata": {},
   "source": [
    "Does the same thing which is done above."
   ]
  },
  {
   "cell_type": "markdown",
   "metadata": {},
   "source": [
    "## Using getattr to call functions dynamically\n",
    "\n",
    "This is a neat little trick. The getattr inbuilt function can be used for this purpose. getattr() returns a named attribute of an object. We can use this to get the reference to a function at run time.\n",
    "\n",
    "Say we have a list and we want to perform a list of actions on it. We could do it as follows -"
   ]
  },
  {
   "cell_type": "code",
   "execution_count": 17,
   "metadata": {},
   "outputs": [
    {
     "name": "stdout",
     "output_type": "stream",
     "text": [
      "1\n",
      "1 2\n",
      "1 2 3\n",
      "1 2\n",
      "1\n",
      "1 4\n"
     ]
    }
   ],
   "source": [
    "action_list = ('append 1', 'append 2', 'append 3', 'pop', 'pop', 'append 4') #The list of actions to be performed.\n",
    "\n",
    "l = list()\n",
    "\n",
    "for x in action_list:\n",
    "    command, *args = x.split()\n",
    "    getattr(l, command)(*args)\n",
    "    print(*l)\n"
   ]
  },
  {
   "cell_type": "markdown",
   "metadata": {},
   "source": [
    "The getattr syntax is as follows: \n",
    "\n",
    "**getattr(object, name[, default])**\n",
    "\n",
    "where - \n",
    "\n",
    "*object* - is the object which is being worked on.\n",
    "\n",
    "*name* - is the attribute being queried.\n",
    "\n",
    "*default(optional)* is the value which is returned when the named attribute is not present.\n",
    "\n",
    "\n",
    "So here the getattr is called on the list object and we are querying for the attributes like append, push, pop etc. This returns the function reference and then it can be called as per normal.\n",
    "\n",
    "This works not just with in built types, but also with modules."
   ]
  },
  {
   "cell_type": "code",
   "execution_count": 18,
   "metadata": {},
   "outputs": [
    {
     "name": "stdout",
     "output_type": "stream",
     "text": [
      "3\n",
      "7\n",
      "1\n",
      "20\n"
     ]
    }
   ],
   "source": [
    "class myoperations():\n",
    "    def addnum(self, a, b):\n",
    "        return(a + b)\n",
    "    def subnum(self, a, b):\n",
    "        return(a - b)\n",
    "    \n",
    "action_list = ('addnum 1 2', 'addnum 2 5', 'subnum 5 4', 'addnum 10 10')\n",
    "\n",
    "myoper = myoperations()\n",
    "\n",
    "for x in action_list:\n",
    "    oper, *args = x.split()\n",
    "    print(getattr(myoper, oper)(*map(int, args)))"
   ]
  },
  {
   "cell_type": "markdown",
   "metadata": {},
   "source": [
    "## Reversing a number (or a string)\n",
    "\n",
    "You can use the slice notation do this very easily. \n",
    "\n",
    "The Python slice notation is as follows - \n",
    "\n",
    "a\\[start:stop:step\\]\n",
    "\n",
    "Here the start is the start index and stop is the stop index. What is of importance here is the step. Usually this is omitted and the default of 1 is used. This means that for normal uses it will step through with a step size of 1."
   ]
  },
  {
   "cell_type": "code",
   "execution_count": 19,
   "metadata": {},
   "outputs": [
    {
     "name": "stdout",
     "output_type": "stream",
     "text": [
      "abcdef\n",
      "abcdef\n"
     ]
    }
   ],
   "source": [
    "string = \"abcdef\"\n",
    "print(string[0:6])\n",
    "print(string[0:6:1])"
   ]
  },
  {
   "cell_type": "markdown",
   "metadata": {},
   "source": [
    "So for reversing a string we can just use a step of -1."
   ]
  },
  {
   "cell_type": "code",
   "execution_count": 20,
   "metadata": {},
   "outputs": [
    {
     "name": "stdout",
     "output_type": "stream",
     "text": [
      "fedcba\n"
     ]
    }
   ],
   "source": [
    "print(string[::-1]) #:: means from start to finish"
   ]
  },
  {
   "cell_type": "markdown",
   "metadata": {},
   "source": [
    "So now from reversing an iteger, it is pretty much the same."
   ]
  },
  {
   "cell_type": "code",
   "execution_count": 21,
   "metadata": {},
   "outputs": [
    {
     "name": "stdout",
     "output_type": "stream",
     "text": [
      "54321\n"
     ]
    }
   ],
   "source": [
    "num = 12345\n",
    "print(int(str(num)[::-1]))"
   ]
  },
  {
   "cell_type": "markdown",
   "metadata": {},
   "source": [
    "## Rotating a matrix\n",
    "\n",
    "We use a neat little trick for this using the python zip function.\n",
    "\n",
    "So what exactly does zip do?\n",
    "\n",
    "\"The zip() function take iterables (can be zero or more), makes iterator that aggregates elements based on the iterables passed, and returns an iterator of tuples.\"\n",
    "\n",
    "What this means is that if there are two lists l1 = \\[1, 2, 3, 4\\] and l2 = \\['a', 'b', 'c', 'd'\\], zip() groups elements from each input iterable based on an index.\n",
    "\n",
    "So - "
   ]
  },
  {
   "cell_type": "code",
   "execution_count": 22,
   "metadata": {},
   "outputs": [
    {
     "name": "stdout",
     "output_type": "stream",
     "text": [
      "[(1, 'a'), (2, 'b'), (3, 'c'), (4, 'd')]\n"
     ]
    }
   ],
   "source": [
    "l1 = [1, 2, 3, 4]\n",
    "l2 = ['a', 'b', 'c', 'd']\n",
    "\n",
    "l3 = list(zip(l1, l2))\n",
    "\n",
    "print(l3)"
   ]
  },
  {
   "cell_type": "markdown",
   "metadata": {},
   "source": [
    "What we get is an iterable with the same number of elements where each element is a tuple of the elements from the input iterables at that index. (NOTE: if the length of the iterable are different, zip() will iterate only till the smallest index).\n",
    "\n",
    "Now, we can use zip() to unzip the iterables. This is done by calling zip() in the following manner. "
   ]
  },
  {
   "cell_type": "code",
   "execution_count": 23,
   "metadata": {},
   "outputs": [
    {
     "name": "stdout",
     "output_type": "stream",
     "text": [
      "(1, 2, 3, 4)\n",
      "('a', 'b', 'c', 'd')\n"
     ]
    }
   ],
   "source": [
    "l4, l5 = zip(*l3)\n",
    "\n",
    "print(l4)\n",
    "print(l5)"
   ]
  },
  {
   "cell_type": "markdown",
   "metadata": {},
   "source": [
    "There is nothing special happening here. We are just calling zip() with argument unpacking using '\\*l3'. This passes in four arguments to zip() which are (1, 'a'), (2, 'b'), (3, 'c') and (4, 'd').\n",
    "\n",
    "### Alright but how to rotate a 2d array.\n",
    "We use the same method like so -"
   ]
  },
  {
   "cell_type": "code",
   "execution_count": 24,
   "metadata": {},
   "outputs": [],
   "source": [
    "# A function to print the matrix\n",
    "def printMatrix(m, n): #m is the matrix, n is the order of the matrix.\n",
    "    for i in range(n):\n",
    "        for j in range(n):\n",
    "            print(\"%2d \"%m[i][j], end=\"\")\n",
    "        print()"
   ]
  },
  {
   "cell_type": "code",
   "execution_count": 25,
   "metadata": {},
   "outputs": [
    {
     "name": "stdout",
     "output_type": "stream",
     "text": [
      " 0  0  0  0 \n",
      " 0  0  0  0 \n",
      " 0  0  0  0 \n",
      " 0  0  0  0 \n"
     ]
    }
   ],
   "source": [
    "order = 4\n",
    "matrix = [[0 for _ in range(order)] for _ in range(order)]\n",
    "\n",
    "printMatrix(matrix, order)"
   ]
  },
  {
   "cell_type": "code",
   "execution_count": 26,
   "metadata": {},
   "outputs": [
    {
     "name": "stdout",
     "output_type": "stream",
     "text": [
      " 1  2  3  4 \n",
      " 5  6  7  8 \n",
      " 9 10 11 12 \n",
      "13 14 15 16 \n"
     ]
    }
   ],
   "source": [
    "#Fill in the matrix\n",
    "val = 1\n",
    "for i in range(order):\n",
    "    for j in range(order):\n",
    "        matrix[i][j] = val\n",
    "        val += 1\n",
    "        \n",
    "printMatrix(matrix, order)"
   ]
  },
  {
   "cell_type": "markdown",
   "metadata": {},
   "source": [
    "Now to rotate the matrix we use this simple one liner. "
   ]
  },
  {
   "cell_type": "code",
   "execution_count": 27,
   "metadata": {},
   "outputs": [
    {
     "name": "stdout",
     "output_type": "stream",
     "text": [
      "13  9  5  1 \n",
      "14 10  6  2 \n",
      "15 11  7  3 \n",
      "16 12  8  4 \n"
     ]
    }
   ],
   "source": [
    "rotated_matrix = list(zip(*matrix[::-1]))\n",
    "printMatrix(rotated_matrix, order)"
   ]
  },
  {
   "cell_type": "markdown",
   "metadata": {},
   "source": [
    "What we have done here is quite simple. The \\[::-1\\] is the same techique we used in the reversing a number tidbit earlier. It just traverses the iterable in the opposite order.\n",
    "\n",
    "To explain what happened here, the original matrix is of the form- "
   ]
  },
  {
   "cell_type": "code",
   "execution_count": 28,
   "metadata": {},
   "outputs": [
    {
     "name": "stdout",
     "output_type": "stream",
     "text": [
      "[[1, 2, 3, 4], [5, 6, 7, 8], [9, 10, 11, 12], [13, 14, 15, 16]]\n"
     ]
    }
   ],
   "source": [
    "print(matrix)"
   ]
  },
  {
   "cell_type": "markdown",
   "metadata": {},
   "source": [
    "Now, when we call zip with matrix unpacked in the revese order, it is equivalent to calling it in this way\n",
    "\n",
    "zip(\\[13, 14, 15, 16\\], \\[9, 10, 11, 12\\], \\[5, 6, 7, 8\\], \\[1, 2, 3, 4\\]) \n",
    "\n",
    "and hence we get the desired output."
   ]
  },
  {
   "cell_type": "code",
   "execution_count": 29,
   "metadata": {},
   "outputs": [
    {
     "name": "stdout",
     "output_type": "stream",
     "text": [
      "[(13, 9, 5, 1), (14, 10, 6, 2), (15, 11, 7, 3), (16, 12, 8, 4)]\n"
     ]
    }
   ],
   "source": [
    "print(list(zip([13, 14, 15, 16], [9, 10, 11, 12], [5, 6, 7, 8], [1, 2, 3, 4])))"
   ]
  },
  {
   "cell_type": "markdown",
   "metadata": {},
   "source": [
    "The same trick can be used to transpose a matrix as well."
   ]
  },
  {
   "cell_type": "code",
   "execution_count": 30,
   "metadata": {},
   "outputs": [
    {
     "name": "stdout",
     "output_type": "stream",
     "text": [
      " 1  5  9 13 \n",
      " 2  6 10 14 \n",
      " 3  7 11 15 \n",
      " 4  8 12 16 \n"
     ]
    }
   ],
   "source": [
    "printMatrix(list(zip(*matrix)), order)"
   ]
  },
  {
   "cell_type": "markdown",
   "metadata": {},
   "source": [
    "# Sorting a dictionary by value\n",
    "An easy way to do this is like so -"
   ]
  },
  {
   "cell_type": "code",
   "execution_count": 31,
   "metadata": {},
   "outputs": [
    {
     "data": {
      "text/plain": [
       "{'f': 2,\n",
       " 'l': 3,\n",
       " 'o': 2,\n",
       " 'c': 4,\n",
       " 'i': 9,\n",
       " 'n': 3,\n",
       " 'a': 2,\n",
       " 'u': 1,\n",
       " 'h': 1,\n",
       " 'p': 1,\n",
       " 't': 1}"
      ]
     },
     "execution_count": 31,
     "metadata": {},
     "output_type": "execute_result"
    }
   ],
   "source": [
    "d1"
   ]
  },
  {
   "cell_type": "code",
   "execution_count": 32,
   "metadata": {},
   "outputs": [
    {
     "name": "stdout",
     "output_type": "stream",
     "text": [
      "[('u', 1), ('h', 1), ('p', 1), ('t', 1), ('f', 2), ('o', 2), ('a', 2), ('l', 3), ('n', 3), ('c', 4), ('i', 9)]\n"
     ]
    }
   ],
   "source": [
    "print(sorted(d1.items(), key=lambda x: x[1]))"
   ]
  },
  {
   "cell_type": "markdown",
   "metadata": {},
   "source": [
    "# Rotating a string\n",
    "Rotating a string can be done very easily using splicing.\n",
    "Split the string into two parts and combine them in the opposite way."
   ]
  },
  {
   "cell_type": "code",
   "execution_count": 33,
   "metadata": {},
   "outputs": [],
   "source": [
    "s = \"abcdefgh\"\n",
    "shift = 3"
   ]
  },
  {
   "cell_type": "markdown",
   "metadata": {},
   "source": [
    "Left shift goes like this"
   ]
  },
  {
   "cell_type": "code",
   "execution_count": 34,
   "metadata": {},
   "outputs": [
    {
     "name": "stdout",
     "output_type": "stream",
     "text": [
      "defghabc\n"
     ]
    }
   ],
   "source": [
    "print(s[shift:] + s[:shift])"
   ]
  },
  {
   "cell_type": "markdown",
   "metadata": {},
   "source": [
    "For right shift we use a similar logic"
   ]
  },
  {
   "cell_type": "code",
   "execution_count": 35,
   "metadata": {},
   "outputs": [
    {
     "name": "stdout",
     "output_type": "stream",
     "text": [
      "fghabcde\n"
     ]
    }
   ],
   "source": [
    "print(s[shift * -1:] + s[:shift * -1])"
   ]
  },
  {
   "cell_type": "markdown",
   "metadata": {},
   "source": [
    "To rotate the string one character at a time, just put this in a loop"
   ]
  },
  {
   "cell_type": "code",
   "execution_count": 36,
   "metadata": {},
   "outputs": [
    {
     "name": "stdout",
     "output_type": "stream",
     "text": [
      "habcdefg\n",
      "ghabcdef\n",
      "fghabcde\n",
      "efghabcd\n",
      "defghabc\n",
      "cdefghab\n",
      "bcdefgha\n",
      "abcdefgh\n"
     ]
    }
   ],
   "source": [
    "for _ in range(len(s)):\n",
    "    s = s[-1:] + s[:-1]\n",
    "    print(s)"
   ]
  },
  {
   "cell_type": "code",
   "execution_count": null,
   "metadata": {},
   "outputs": [],
   "source": []
  }
 ],
 "metadata": {
  "kernelspec": {
   "display_name": "Python 3",
   "language": "python",
   "name": "python3"
  },
  "language_info": {
   "codemirror_mode": {
    "name": "ipython",
    "version": 3
   },
   "file_extension": ".py",
   "mimetype": "text/x-python",
   "name": "python",
   "nbconvert_exporter": "python",
   "pygments_lexer": "ipython3",
   "version": "3.6.5"
  }
 },
 "nbformat": 4,
 "nbformat_minor": 2
}
