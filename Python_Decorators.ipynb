{
 "cells": [
  {
   "cell_type": "markdown",
   "metadata": {},
   "source": [
    "# Python Decorators\n",
    "\n",
    "What are python decorators? What are they used for?\n",
    "\n",
    "In a very simple form, a decorator in Python is a function which is used to \"decorate\" other functions. Think of them as functions which add a wrapper around other functions to add some functionality without actually modifying the *wrapped* function.\n",
    "\n",
    "A simple example of this is in the case that there are multiple functions and you want to time how long each function takes to execute. One way is to modify each of the functions to add the code to time them which is both time consuming and impossible to maintain OR create a new decorator function which does the timing functionality and use it to decorate whichever function you want to decorate.\n",
    "\n",
    "## A brief history about Closures\n",
    "\n",
    "Python decorators work on the principle of *closure*. Closure is a function object that remembers values in enclosing scopes even if they are not present in memory. Consider the following code."
   ]
  },
  {
   "cell_type": "code",
   "execution_count": 1,
   "metadata": {},
   "outputs": [
    {
     "name": "stdout",
     "output_type": "stream",
     "text": [
      "I am the inner function and I can access: free variable\n",
      "I am the inner function and I can access: free variable\n"
     ]
    }
   ],
   "source": [
    "def outer_function():\n",
    "    var = \"free variable\"\n",
    "    \n",
    "    def inner_function():\n",
    "        print(f\"I am the inner function and I can access: {var}\")\n",
    "        \n",
    "    return inner_function\n",
    "\n",
    "func = outer_function()\n",
    "\n",
    "func()\n",
    "func()"
   ]
  },
  {
   "cell_type": "markdown",
   "metadata": {},
   "source": [
    "So here the outer_function returns the object of the inner_function and when we execute the inner_function it is able to access the variable var which is in the scope of the outer_function which has already finished executing."
   ]
  },
  {
   "cell_type": "markdown",
   "metadata": {},
   "source": [
    "## So getting back to decoraters\n",
    "\n",
    "So we use the same principle to make decorators. Take a look at this example"
   ]
  },
  {
   "cell_type": "code",
   "execution_count": 2,
   "metadata": {},
   "outputs": [
    {
     "name": "stdout",
     "output_type": "stream",
     "text": [
      "wrapping before the func.\n",
      "I am the function to be wrapped\n",
      "wrapping after the func.\n"
     ]
    }
   ],
   "source": [
    "def decorator_func(some_function):\n",
    "    def wrapper():\n",
    "        print(\"wrapping before the func.\")\n",
    "        some_function()\n",
    "        print(\"wrapping after the func.\")\n",
    "    return wrapper\n",
    "\n",
    "def function_to_be_wrapped():\n",
    "    print(\"I am the function to be wrapped\")\n",
    "    \n",
    "wrapped_func = decorator_func(function_to_be_wrapped)\n",
    "\n",
    "wrapped_func()"
   ]
  },
  {
   "cell_type": "markdown",
   "metadata": {},
   "source": [
    "So there you have it. The \"function_to_be_wrapped\" is wrapped with the wrapper_func and hence we get the required result.\n",
    "\n",
    "## Now lets add some 'sugar' to it.\n",
    "\n",
    "Python lets you simplify the calling of the wrapped function and assigning it to a new function by the use of the **'@'** symbol like so."
   ]
  },
  {
   "cell_type": "code",
   "execution_count": 3,
   "metadata": {},
   "outputs": [
    {
     "name": "stdout",
     "output_type": "stream",
     "text": [
      "wrapping before the func.\n",
      "I am the second function to be wrapped\n",
      "wrapping after the func.\n"
     ]
    }
   ],
   "source": [
    "#New function to be wrapped with the same wrapper.\n",
    "\n",
    "@decorator_func\n",
    "def second_wrapped_function():\n",
    "    print(\"I am the second function to be wrapped\")\n",
    "    \n",
    "second_wrapped_function()"
   ]
  },
  {
   "cell_type": "markdown",
   "metadata": {},
   "source": [
    "\n",
    "The @decorator_func is just a syntactic sugar instead of writing that whole code of calling the wrapper function with the function to be wrapped. Using this the function gets automatically decorated with the decorator function given after the @ symbol."
   ]
  },
  {
   "cell_type": "markdown",
   "metadata": {},
   "source": [
    "# A real example\n",
    "\n",
    "Now lets take a real example of how to use decorators. We will use the same example of timing the function."
   ]
  },
  {
   "cell_type": "code",
   "execution_count": 4,
   "metadata": {},
   "outputs": [
    {
     "name": "stdout",
     "output_type": "stream",
     "text": [
      "Finished counting to a hundred.\n",
      "Time taken to execute: 0.00027298927307128906\n",
      "Finished counting to a million.\n",
      "Time taken to execute: 0.09212017059326172\n"
     ]
    }
   ],
   "source": [
    "from time import time\n",
    "\n",
    "def time_decorator(some_function):\n",
    "    def wrapper(*args, **kwargs):\n",
    "        t_1 = time()\n",
    "        some_function(*args, **kwargs)\n",
    "        t_2 = time()\n",
    "        print(f\"Time taken to execute: {t_2 - t_1}\")\n",
    "    return wrapper\n",
    "\n",
    "@time_decorator\n",
    "def count_to_a_hundred():\n",
    "    count = 0\n",
    "    for _ in range(100):\n",
    "        count += 1\n",
    "    print(\"Finished counting to a hundred.\")\n",
    "\n",
    "@time_decorator\n",
    "def count_to_a_million():\n",
    "    count = 0\n",
    "    for _ in range(1000000):\n",
    "        count += 1\n",
    "    print(\"Finished counting to a million.\")\n",
    "    \n",
    "count_to_a_hundred()\n",
    "count_to_a_million()"
   ]
  },
  {
   "cell_type": "markdown",
   "metadata": {},
   "source": [
    "So thats it. Decorators can be used for a lot of other functionalities."
   ]
  }
 ],
 "metadata": {
  "kernelspec": {
   "display_name": "Python 3",
   "language": "python",
   "name": "python3"
  },
  "language_info": {
   "codemirror_mode": {
    "name": "ipython",
    "version": 3
   },
   "file_extension": ".py",
   "mimetype": "text/x-python",
   "name": "python",
   "nbconvert_exporter": "python",
   "pygments_lexer": "ipython3",
   "version": "3.6.5"
  }
 },
 "nbformat": 4,
 "nbformat_minor": 2
}
