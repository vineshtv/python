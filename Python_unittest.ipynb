{
 "cells": [
  {
   "cell_type": "code",
   "execution_count": 1,
   "metadata": {},
   "outputs": [],
   "source": [
    "class Operator:\n",
    "    @staticmethod\n",
    "    def sum(a, b):\n",
    "        return a + b\n",
    "    \n",
    "    @staticmethod\n",
    "    def diff(a, b):\n",
    "        return a - b\n",
    "    \n",
    "    @staticmethod\n",
    "    def mult(a, b):\n",
    "        return a * b\n",
    "    \n",
    "    @staticmethod\n",
    "    def div(a, b):\n",
    "        return a / b"
   ]
  },
  {
   "cell_type": "code",
   "execution_count": 2,
   "metadata": {},
   "outputs": [],
   "source": [
    "import unittest\n",
    "import random"
   ]
  },
  {
   "cell_type": "code",
   "execution_count": 3,
   "metadata": {},
   "outputs": [],
   "source": [
    "class TestOperator(unittest.TestCase):\n",
    "    def setUp(self):\n",
    "        pass\n",
    "    \n",
    "    @property\n",
    "    def random_number(self):\n",
    "        return random.randint(1, 100)\n",
    "    \n",
    "    def test_sum(self):\n",
    "        a = self.random_number\n",
    "        b = self.random_number\n",
    "        self.assertEqual(Operator.sum(a, b),\n",
    "                         a + b,\n",
    "                         f'a = {a}, b = {b}')\n",
    "        \n",
    "    def test_diff(self):\n",
    "        a = self.random_number\n",
    "        b = self.random_number\n",
    "        self.assertEqual(Operator.diff(a, b),\n",
    "                         a - b,\n",
    "                         f'a = {a}, b = {b}')\n",
    "        \n",
    "    def test_mult(self):\n",
    "        a = self.random_number\n",
    "        b = self.random_number\n",
    "        self.assertEqual(Operator.mult(a, b),\n",
    "                         a * b,\n",
    "                         f'a = {a}, b = {b}')\n",
    "        \n",
    "    def test_div(self):\n",
    "        a = self.random_number\n",
    "        b = self.random_number\n",
    "        self.assertEqual(Operator.div(a, b),\n",
    "                         a / b, \n",
    "                         f'a = {a}, b = {b}')"
   ]
  },
  {
   "cell_type": "code",
   "execution_count": 4,
   "metadata": {},
   "outputs": [
    {
     "name": "stderr",
     "output_type": "stream",
     "text": [
      "....\n",
      "----------------------------------------------------------------------\n",
      "Ran 4 tests in 0.005s\n",
      "\n",
      "OK\n"
     ]
    }
   ],
   "source": [
    "if __name__ == '__main__':\n",
    "    unittest.main(argv=[''], exit=False)"
   ]
  },
  {
   "cell_type": "code",
   "execution_count": null,
   "metadata": {},
   "outputs": [],
   "source": []
  }
 ],
 "metadata": {
  "kernelspec": {
   "display_name": "Python 3",
   "language": "python",
   "name": "python3"
  },
  "language_info": {
   "codemirror_mode": {
    "name": "ipython",
    "version": 3
   },
   "file_extension": ".py",
   "mimetype": "text/x-python",
   "name": "python",
   "nbconvert_exporter": "python",
   "pygments_lexer": "ipython3",
   "version": "3.6.5"
  }
 },
 "nbformat": 4,
 "nbformat_minor": 2
}
